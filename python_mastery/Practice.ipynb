{
 "cells": [
  {
   "cell_type": "code",
   "execution_count": 1,
   "id": "7cdc3f84",
   "metadata": {},
   "outputs": [
    {
     "name": "stdout",
     "output_type": "stream",
     "text": [
      "Hello payal\n"
     ]
    }
   ],
   "source": [
    "print(\"Hello payal\")"
   ]
  },
  {
   "cell_type": "code",
   "execution_count": 2,
   "id": "8726afb1",
   "metadata": {},
   "outputs": [
    {
     "name": "stdout",
     "output_type": "stream",
     "text": [
      "24\n"
     ]
    }
   ],
   "source": [
    "print(12+12)"
   ]
  },
  {
   "cell_type": "code",
   "execution_count": 3,
   "id": "586a0a8a",
   "metadata": {},
   "outputs": [
    {
     "name": "stdout",
     "output_type": "stream",
     "text": [
      "What is your name?payal\n",
      "What is your favorite color?red\n"
     ]
    }
   ],
   "source": [
    "name=input(\"What is your name?\")\n",
    "color=input('What is your favorite color?')"
   ]
  },
  {
   "cell_type": "code",
   "execution_count": 4,
   "id": "f2c1819d",
   "metadata": {},
   "outputs": [
    {
     "name": "stdout",
     "output_type": "stream",
     "text": [
      "payal\n"
     ]
    }
   ],
   "source": [
    "print(name)"
   ]
  },
  {
   "cell_type": "code",
   "execution_count": 5,
   "id": "bc0430bf",
   "metadata": {},
   "outputs": [
    {
     "name": "stdout",
     "output_type": "stream",
     "text": [
      "red\n"
     ]
    }
   ],
   "source": [
    "print(color)"
   ]
  },
  {
   "cell_type": "code",
   "execution_count": 6,
   "id": "9f67b4df",
   "metadata": {},
   "outputs": [],
   "source": [
    "def addFive(n):\n",
    "    print(n+5)"
   ]
  },
  {
   "cell_type": "code",
   "execution_count": 7,
   "id": "06776b24",
   "metadata": {},
   "outputs": [
    {
     "name": "stdout",
     "output_type": "stream",
     "text": [
      "13\n"
     ]
    }
   ],
   "source": [
    "addFive(8)"
   ]
  },
  {
   "cell_type": "code",
   "execution_count": 8,
   "id": "e07e7bcc",
   "metadata": {},
   "outputs": [
    {
     "name": "stdout",
     "output_type": "stream",
     "text": [
      "12.9\n"
     ]
    }
   ],
   "source": [
    "addFive(7.9)"
   ]
  },
  {
   "cell_type": "code",
   "execution_count": 10,
   "id": "2f6f9e5b",
   "metadata": {},
   "outputs": [],
   "source": [
    "def greet(name):\n",
    "    print(\"hi \"+name)"
   ]
  },
  {
   "cell_type": "code",
   "execution_count": 13,
   "id": "a6c478f1",
   "metadata": {},
   "outputs": [
    {
     "name": "stdout",
     "output_type": "stream",
     "text": [
      "hi maa\n"
     ]
    }
   ],
   "source": [
    "greet(\"maa\")"
   ]
  },
  {
   "cell_type": "code",
   "execution_count": 14,
   "id": "dd069f71",
   "metadata": {},
   "outputs": [],
   "source": [
    "def square(x,y):\n",
    "    sq1=x*x\n",
    "    sq2=y*y\n",
    "    return sq1+sq2"
   ]
  },
  {
   "cell_type": "code",
   "execution_count": 15,
   "id": "71a18547",
   "metadata": {},
   "outputs": [
    {
     "data": {
      "text/plain": [
       "5"
      ]
     },
     "execution_count": 15,
     "metadata": {},
     "output_type": "execute_result"
    }
   ],
   "source": [
    "square(1,2)"
   ]
  },
  {
   "cell_type": "code",
   "execution_count": 16,
   "id": "1e591e9a",
   "metadata": {},
   "outputs": [],
   "source": [
    "import calendar"
   ]
  },
  {
   "cell_type": "code",
   "execution_count": 17,
   "id": "4fe4d6c7",
   "metadata": {},
   "outputs": [],
   "source": [
    "cal = calendar.month(2019,7)"
   ]
  },
  {
   "cell_type": "code",
   "execution_count": 18,
   "id": "c5bc1aaf",
   "metadata": {},
   "outputs": [
    {
     "name": "stdout",
     "output_type": "stream",
     "text": [
      "     July 2019\n",
      "Mo Tu We Th Fr Sa Su\n",
      " 1  2  3  4  5  6  7\n",
      " 8  9 10 11 12 13 14\n",
      "15 16 17 18 19 20 21\n",
      "22 23 24 25 26 27 28\n",
      "29 30 31\n",
      "\n"
     ]
    }
   ],
   "source": [
    "print(cal)"
   ]
  },
  {
   "cell_type": "code",
   "execution_count": 19,
   "id": "53a7da7a",
   "metadata": {},
   "outputs": [],
   "source": [
    "import math"
   ]
  },
  {
   "cell_type": "code",
   "execution_count": 20,
   "id": "dc031257",
   "metadata": {},
   "outputs": [],
   "source": [
    "result=math.sqrt(9)"
   ]
  },
  {
   "cell_type": "code",
   "execution_count": 21,
   "id": "65ce9516",
   "metadata": {},
   "outputs": [
    {
     "name": "stdout",
     "output_type": "stream",
     "text": [
      "3.0\n"
     ]
    }
   ],
   "source": [
    "print(result)"
   ]
  },
  {
   "cell_type": "code",
   "execution_count": 22,
   "id": "1d8a1ef9",
   "metadata": {},
   "outputs": [],
   "source": [
    "import random"
   ]
  },
  {
   "cell_type": "code",
   "execution_count": 23,
   "id": "47d2c957",
   "metadata": {},
   "outputs": [],
   "source": [
    "rand=random.randint(1,100)"
   ]
  },
  {
   "cell_type": "code",
   "execution_count": 24,
   "id": "88ff24b3",
   "metadata": {},
   "outputs": [
    {
     "name": "stdout",
     "output_type": "stream",
     "text": [
      "43\n"
     ]
    }
   ],
   "source": [
    "print(rand)"
   ]
  },
  {
   "cell_type": "code",
   "execution_count": 25,
   "id": "82aa3b61",
   "metadata": {},
   "outputs": [],
   "source": [
    "movies=[\"a\",\"b\",\"n\",\"p\",\"i\"]"
   ]
  },
  {
   "cell_type": "code",
   "execution_count": 26,
   "id": "25afcca1",
   "metadata": {},
   "outputs": [
    {
     "name": "stdout",
     "output_type": "stream",
     "text": [
      "i\n"
     ]
    }
   ],
   "source": [
    "print(random.choice(movies))"
   ]
  },
  {
   "cell_type": "code",
   "execution_count": 27,
   "id": "0cebc5ed",
   "metadata": {},
   "outputs": [],
   "source": [
    "random.shuffle(movies)"
   ]
  },
  {
   "cell_type": "code",
   "execution_count": 28,
   "id": "7d404596",
   "metadata": {},
   "outputs": [
    {
     "name": "stdout",
     "output_type": "stream",
     "text": [
      "['a', 'b', 'n', 'i', 'p']\n"
     ]
    }
   ],
   "source": [
    "print(movies)"
   ]
  },
  {
   "cell_type": "code",
   "execution_count": 29,
   "id": "402c0245",
   "metadata": {},
   "outputs": [],
   "source": [
    "#sequence"
   ]
  },
  {
   "cell_type": "code",
   "execution_count": 30,
   "id": "146e8a9d",
   "metadata": {},
   "outputs": [],
   "source": [
    "#list"
   ]
  },
  {
   "cell_type": "code",
   "execution_count": 31,
   "id": "cd54ae1d",
   "metadata": {},
   "outputs": [],
   "source": [
    "alist=[1,2,3,4,5]"
   ]
  },
  {
   "cell_type": "code",
   "execution_count": 32,
   "id": "ba666391",
   "metadata": {},
   "outputs": [
    {
     "name": "stdout",
     "output_type": "stream",
     "text": [
      "1\n"
     ]
    }
   ],
   "source": [
    "print(alist[0])"
   ]
  },
  {
   "cell_type": "code",
   "execution_count": 33,
   "id": "65745a0c",
   "metadata": {},
   "outputs": [],
   "source": [
    "alist[2]=100"
   ]
  },
  {
   "cell_type": "code",
   "execution_count": 34,
   "id": "b3112623",
   "metadata": {},
   "outputs": [
    {
     "name": "stdout",
     "output_type": "stream",
     "text": [
      "[1, 2, 100, 4, 5]\n"
     ]
    }
   ],
   "source": [
    "print(alist)"
   ]
  },
  {
   "cell_type": "code",
   "execution_count": 35,
   "id": "0a6e8c82",
   "metadata": {},
   "outputs": [],
   "source": [
    "mytuple=(\"a\",\"w\",\"q\")"
   ]
  },
  {
   "cell_type": "code",
   "execution_count": 36,
   "id": "f5120657",
   "metadata": {},
   "outputs": [
    {
     "name": "stdout",
     "output_type": "stream",
     "text": [
      "w\n"
     ]
    }
   ],
   "source": [
    "print(mytuple[1])"
   ]
  },
  {
   "cell_type": "code",
   "execution_count": 37,
   "id": "261e6cde",
   "metadata": {},
   "outputs": [
    {
     "ename": "TypeError",
     "evalue": "'tuple' object does not support item assignment",
     "output_type": "error",
     "traceback": [
      "\u001b[1;31m---------------------------------------------------------------------------\u001b[0m",
      "\u001b[1;31mTypeError\u001b[0m                                 Traceback (most recent call last)",
      "Cell \u001b[1;32mIn[37], line 1\u001b[0m\n\u001b[1;32m----> 1\u001b[0m mytuple[\u001b[38;5;241m1\u001b[39m]\u001b[38;5;241m=\u001b[39m\u001b[38;5;124m\"\u001b[39m\u001b[38;5;124mt\u001b[39m\u001b[38;5;124m\"\u001b[39m\n",
      "\u001b[1;31mTypeError\u001b[0m: 'tuple' object does not support item assignment"
     ]
    }
   ],
   "source": [
    "mytuple[1]=\"t\""
   ]
  },
  {
   "cell_type": "code",
   "execution_count": 38,
   "id": "e85f72ee",
   "metadata": {},
   "outputs": [],
   "source": [
    "def min(x):\n",
    "    if x<2:\n",
    "        return 2\n",
    "    elif x<4:\n",
    "        return 4\n",
    "    else:\n",
    "        return 5"
   ]
  },
  {
   "cell_type": "code",
   "execution_count": 39,
   "id": "1cd845e4",
   "metadata": {},
   "outputs": [
    {
     "name": "stdout",
     "output_type": "stream",
     "text": [
      "5\n"
     ]
    }
   ],
   "source": [
    "print(min(9))"
   ]
  },
  {
   "cell_type": "code",
   "execution_count": 44,
   "id": "0843312e",
   "metadata": {},
   "outputs": [
    {
     "name": "stdout",
     "output_type": "stream",
     "text": [
      "enter a number?1\n",
      "7\n"
     ]
    }
   ],
   "source": [
    "n = input(\"enter a number?\")\n",
    "n1=int(n)\n",
    "if n1>5:\n",
    "    print(5)\n",
    "else:\n",
    "    print(7)"
   ]
  },
  {
   "cell_type": "code",
   "execution_count": 45,
   "id": "e4d33152",
   "metadata": {},
   "outputs": [
    {
     "name": "stdout",
     "output_type": "stream",
     "text": [
      "0\n",
      "1\n",
      "2\n",
      "3\n"
     ]
    }
   ],
   "source": [
    "for i in range(4):\n",
    "    print(i)"
   ]
  },
  {
   "cell_type": "code",
   "execution_count": 46,
   "id": "7a52d2a6",
   "metadata": {},
   "outputs": [
    {
     "name": "stdout",
     "output_type": "stream",
     "text": [
      "1\n",
      "3\n",
      "5\n",
      "7\n"
     ]
    }
   ],
   "source": [
    "for i in range(1,8,2):\n",
    "    print(i)"
   ]
  },
  {
   "cell_type": "code",
   "execution_count": 48,
   "id": "f4d9a938",
   "metadata": {},
   "outputs": [
    {
     "name": "stdout",
     "output_type": "stream",
     "text": [
      "a\n",
      "e\n",
      "i\n",
      "o\n",
      "u\n"
     ]
    }
   ],
   "source": [
    "vowels=['a','e','i','o','u']\n",
    "for i in vowels:\n",
    "    print(i)"
   ]
  },
  {
   "cell_type": "code",
   "execution_count": 50,
   "id": "39510086",
   "metadata": {},
   "outputs": [
    {
     "name": "stdout",
     "output_type": "stream",
     "text": [
      "a\n",
      "e\n",
      "i\n",
      "o\n",
      "u\n"
     ]
    }
   ],
   "source": [
    "i=0\n",
    "while i<len(vowels):\n",
    "    print(vowels[i])\n",
    "    i+=1"
   ]
  },
  {
   "cell_type": "code",
   "execution_count": 51,
   "id": "22b03bfa",
   "metadata": {},
   "outputs": [],
   "source": [
    "def fact(n):\n",
    "    if n==1:\n",
    "        return 1\n",
    "    return fact(n-1)*n"
   ]
  },
  {
   "cell_type": "code",
   "execution_count": 52,
   "id": "e6f7851d",
   "metadata": {},
   "outputs": [
    {
     "name": "stdout",
     "output_type": "stream",
     "text": [
      "6\n"
     ]
    }
   ],
   "source": [
    "print(fact(3))"
   ]
  },
  {
   "cell_type": "code",
   "execution_count": 59,
   "id": "ebb71241",
   "metadata": {},
   "outputs": [],
   "source": [
    "def sumOfDigits(n):\n",
    "    if n<10:\n",
    "        return n\n",
    "    all_but_last=n//10\n",
    "    last=n%10\n",
    "    return (sumOfDigits(all_but_last)+last)"
   ]
  },
  {
   "cell_type": "code",
   "execution_count": 60,
   "id": "73f32a7c",
   "metadata": {},
   "outputs": [
    {
     "name": "stdout",
     "output_type": "stream",
     "text": [
      "6\n"
     ]
    }
   ],
   "source": [
    "print(sumOfDigits(123))"
   ]
  },
  {
   "cell_type": "code",
   "execution_count": 61,
   "id": "39b6dc85",
   "metadata": {},
   "outputs": [],
   "source": [
    "def fib(n):\n",
    "    if n==1:\n",
    "        return 0\n",
    "    if n==2:\n",
    "        return 1\n",
    "    return fib(n-1)+fib(n-2)"
   ]
  },
  {
   "cell_type": "code",
   "execution_count": 63,
   "id": "1744436d",
   "metadata": {},
   "outputs": [
    {
     "name": "stdout",
     "output_type": "stream",
     "text": [
      "2\n"
     ]
    }
   ],
   "source": [
    "print(fib(4))"
   ]
  },
  {
   "cell_type": "code",
   "execution_count": 67,
   "id": "6902129f",
   "metadata": {},
   "outputs": [],
   "source": [
    "def palin(s):\n",
    "    if len(s)<=1:\n",
    "        return True\n",
    "    return s[0]==s[-1] and palin(s[1:-1])"
   ]
  },
  {
   "cell_type": "code",
   "execution_count": 68,
   "id": "86b67442",
   "metadata": {},
   "outputs": [
    {
     "name": "stdout",
     "output_type": "stream",
     "text": [
      "True\n"
     ]
    }
   ],
   "source": [
    "print(palin(\"sds\"))"
   ]
  },
  {
   "cell_type": "code",
   "execution_count": 72,
   "id": "8b36e2e1",
   "metadata": {},
   "outputs": [],
   "source": [
    "class Dog():\n",
    "    def __init__(self,name,age):\n",
    "        self.name=name\n",
    "        self.age=age\n",
    "    def bark(self):\n",
    "        print(self.name)"
   ]
  },
  {
   "cell_type": "code",
   "execution_count": 73,
   "id": "928a7bf6",
   "metadata": {},
   "outputs": [],
   "source": [
    "fido=Dog(\"hu\",21)"
   ]
  },
  {
   "cell_type": "code",
   "execution_count": 74,
   "id": "fb55ec22",
   "metadata": {},
   "outputs": [
    {
     "name": "stdout",
     "output_type": "stream",
     "text": [
      "hu\n"
     ]
    }
   ],
   "source": [
    "fido.bark()"
   ]
  },
  {
   "cell_type": "code",
   "execution_count": 75,
   "id": "78ebf716",
   "metadata": {},
   "outputs": [
    {
     "name": "stdout",
     "output_type": "stream",
     "text": [
      "21\n"
     ]
    }
   ],
   "source": [
    "print(fido.age)"
   ]
  },
  {
   "cell_type": "code",
   "execution_count": 76,
   "id": "c0b2ba8e",
   "metadata": {},
   "outputs": [],
   "source": [
    "fido.age+=1"
   ]
  },
  {
   "cell_type": "code",
   "execution_count": 77,
   "id": "0e24181a",
   "metadata": {},
   "outputs": [
    {
     "name": "stdout",
     "output_type": "stream",
     "text": [
      "22\n"
     ]
    }
   ],
   "source": [
    "print(fido.age)"
   ]
  },
  {
   "cell_type": "code",
   "execution_count": 78,
   "id": "461397b7",
   "metadata": {},
   "outputs": [],
   "source": [
    "class Poodle(Dog):\n",
    "    def __init__(self,name,age,weight):\n",
    "        self.name=name\n",
    "        self.age=age\n",
    "        self.weight=weight\n",
    "    def bark(self,manner=\"energetically\"):\n",
    "        print(self.weight+manner)"
   ]
  },
  {
   "cell_type": "code",
   "execution_count": 79,
   "id": "67c84a09",
   "metadata": {},
   "outputs": [],
   "source": [
    "ella=Poodle(\"A\",1,1)"
   ]
  },
  {
   "cell_type": "code",
   "execution_count": 80,
   "id": "dceb4fa7",
   "metadata": {},
   "outputs": [
    {
     "name": "stdout",
     "output_type": "stream",
     "text": [
      "A\n"
     ]
    }
   ],
   "source": [
    "ella.bark()"
   ]
  },
  {
   "cell_type": "code",
   "execution_count": null,
   "id": "729bbe39",
   "metadata": {},
   "outputs": [],
   "source": []
  }
 ],
 "metadata": {
  "kernelspec": {
   "display_name": "Python 3 (ipykernel)",
   "language": "python",
   "name": "python3"
  },
  "language_info": {
   "codemirror_mode": {
    "name": "ipython",
    "version": 3
   },
   "file_extension": ".py",
   "mimetype": "text/x-python",
   "name": "python",
   "nbconvert_exporter": "python",
   "pygments_lexer": "ipython3",
   "version": "3.11.7"
  }
 },
 "nbformat": 4,
 "nbformat_minor": 5
}
